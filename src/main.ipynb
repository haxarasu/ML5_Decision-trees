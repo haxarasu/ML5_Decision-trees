{
 "cells": [
  {
   "cell_type": "code",
   "execution_count": 4,
   "id": "12c8bd80",
   "metadata": {},
   "outputs": [],
   "source": [
    "from helpers.datasplit import S21SplitByThirds\n",
    "from helpers.preprocess import S21Pipelines\n",
    "import pandas as pd"
   ]
  },
  {
   "cell_type": "code",
   "execution_count": 5,
   "id": "62c5bccd",
   "metadata": {},
   "outputs": [],
   "source": [
    "df = pd.read_csv(\"../datasets/data/training.csv\")\n",
    "\n",
    "splitter = S21SplitByThirds(df)\n",
    "df_train, df_val, df_test = splitter.split()\n",
    "\n",
    "TARGET = \"IsBadBuy\"\n",
    "drop_cols = [TARGET, \"PurchDate\"]\n",
    "\n",
    "X_train = df_train.drop(columns=drop_cols)\n",
    "X_val = df_val.drop(columns=drop_cols)\n",
    "X_test = df_test.drop(columns=drop_cols)\n",
    "\n",
    "y_train = df_train[TARGET]\n",
    "y_val = df_val[TARGET]\n",
    "y_test = df_test[TARGET]"
   ]
  },
  {
   "cell_type": "code",
   "execution_count": null,
   "id": "7879f93f",
   "metadata": {},
   "outputs": [
    {
     "name": "stdout",
     "output_type": "stream",
     "text": [
      "<helpers.preprocess.S21Pipelines object at 0x118812d50>\n"
     ]
    }
   ],
   "source": [
    "Xs = [X_train, X_test]\n",
    "preprocess = S21Pipelines(Xs)._preprocess_builder()"
   ]
  },
  {
   "cell_type": "code",
   "execution_count": null,
   "id": "ba08a243",
   "metadata": {},
   "outputs": [],
   "source": []
  }
 ],
 "metadata": {
  "kernelspec": {
   "display_name": "venv",
   "language": "python",
   "name": "python3"
  },
  "language_info": {
   "codemirror_mode": {
    "name": "ipython",
    "version": 3
   },
   "file_extension": ".py",
   "mimetype": "text/x-python",
   "name": "python",
   "nbconvert_exporter": "python",
   "pygments_lexer": "ipython3",
   "version": "3.13.7"
  }
 },
 "nbformat": 4,
 "nbformat_minor": 5
}
